{
 "cells": [
  {
   "cell_type": "code",
   "execution_count": 1,
   "metadata": {},
   "outputs": [],
   "source": [
    "from sqlalchemy.orm import sessionmaker\n",
    "from modelis import engine, Tevas, Vaikas\n",
    "\n",
    "session = sessionmaker(bind=engine)()\n"
   ]
  },
  {
   "cell_type": "code",
   "execution_count": 2,
   "metadata": {},
   "outputs": [],
   "source": [
    "naujas_tevas=Tevas(vardas=\"Sergejus\", pavarde=\"Vyras\")\n",
    "naujas_vaikas = Vaikas(\n",
    "    vardas=\"Arina\",\n",
    "    pavarde=\"Mergaite\",\n",
    "    tevas=naujas_tevas,\n",
    "    mokymo_istaiga=\"CodeAcademy\",\n",
    ")\n",
    "session.add(naujas_tevas)\n",
    "session.add(naujas_vaikas)\n",
    "session.commit()\n"
   ]
  },
  {
   "cell_type": "code",
   "execution_count": 3,
   "metadata": {},
   "outputs": [
    {
     "name": "stdout",
     "output_type": "stream",
     "text": [
      "[(1, Arina, Mergaite, (1, Sergejus, Vyras)),\n",
      " (2, Arina, Mergaite, (1, Sergejus, Vyras)),\n",
      " (3, Arina, Mergaite, (3, Sergejus, Vyras)),\n",
      " (4, Gudrus, Vaikis, (4, Rimtas, Vaikis)),\n",
      " (5, Gudra, Vaike, (4, Rimtas, Vaikis)),\n",
      " (6, Gudrus, Vaikis, (5, Rimtas, Vaikis)),\n",
      " (7, Gudra, Vaike, (5, Rimtas, Vaikis)),\n",
      " (8, Arina, Mergaite, (6, Sergejus, Vyras)),\n",
      " (9, Gudrus, Vaikis, (7, Rimtas, Vaikis)),\n",
      " (10, Gudra, Vaike, (7, Rimtas, Vaikis)),\n",
      " (11, Arina, Mergaite, (8, Sergejus, Vyras)),\n",
      " (12, Arina, Mergaite, (9, Sergejus, Vyras))]\n"
     ]
    }
   ],
   "source": [
    "from pprint import pprint\n",
    "vaikai = session.query(Vaikas).all()\n",
    "pprint(vaikai)"
   ]
  },
  {
   "cell_type": "code",
   "execution_count": 4,
   "metadata": {},
   "outputs": [
    {
     "data": {
      "text/plain": [
       "[(1, Arina, Mergaite, (1, Sergejus, Vyras)),\n",
       " (2, Arina, Mergaite, (1, Sergejus, Vyras)),\n",
       " (3, Arina, Mergaite, (3, Sergejus, Vyras)),\n",
       " (4, Gudrus, Vaikis, (4, Rimtas, Vaikis)),\n",
       " (5, Gudra, Vaike, (4, Rimtas, Vaikis)),\n",
       " (6, Gudrus, Vaikis, (5, Rimtas, Vaikis)),\n",
       " (7, Gudra, Vaike, (5, Rimtas, Vaikis)),\n",
       " (8, Arina, Mergaite, (6, Sergejus, Vyras))]"
      ]
     },
     "execution_count": 4,
     "metadata": {},
     "output_type": "execute_result"
    }
   ],
   "source": [
    "vaikai[1].tevas = session.query(Tevas).get(1)\n",
    "# session.commit()\n",
    "vaikai"
   ]
  },
  {
   "cell_type": "code",
   "execution_count": 5,
   "metadata": {},
   "outputs": [
    {
     "data": {
      "text/plain": [
       "(1, Sergejus, Vyras)"
      ]
     },
     "execution_count": 5,
     "metadata": {},
     "output_type": "execute_result"
    }
   ],
   "source": [
    "tevas=session.query(Tevas).get(1)\n",
    "tevas"
   ]
  },
  {
   "cell_type": "code",
   "execution_count": 4,
   "metadata": {},
   "outputs": [],
   "source": [
    "sunelis = Vaikas(vardas=\"Gudrus\", pavarde=\"Vaikis\")\n",
    "dukra = Vaikas(vardas=\"Gudra\", pavarde=\"Vaike\")\n",
    "tevas=Tevas(vardas=\"Rimtas\", pavarde=\"Vaikis\")\n",
    "tevas.vaikai.append(sunelis)\n",
    "tevas.vaikai.append(dukra)\n",
    "session.add(tevas)\n",
    "session.commit()"
   ]
  },
  {
   "cell_type": "code",
   "execution_count": 7,
   "metadata": {},
   "outputs": [
    {
     "data": {
      "text/plain": [
       "[(1, Arina, Mergaite, (1, Sergejus, Vyras)),\n",
       " (2, Arina, Mergaite, (1, Sergejus, Vyras))]"
      ]
     },
     "execution_count": 7,
     "metadata": {},
     "output_type": "execute_result"
    }
   ],
   "source": [
    "tevas=session.query(Tevas).get(1)\n",
    "tevas.vaikai"
   ]
  },
  {
   "cell_type": "code",
   "execution_count": 8,
   "metadata": {},
   "outputs": [
    {
     "name": "stdout",
     "output_type": "stream",
     "text": [
      "tevas:  (1, Sergejus, Vyras) \n",
      "vaikai: \n",
      "[(1, Arina, Mergaite, (1, Sergejus, Vyras)),\n",
      " (2, Arina, Mergaite, (1, Sergejus, Vyras))]\n",
      "tevas:  (2, Sergejus, Vyras) \n",
      "vaikai: \n",
      "[]\n",
      "tevas:  (3, Sergejus, Vyras) \n",
      "vaikai: \n",
      "[(3, Arina, Mergaite, (3, Sergejus, Vyras))]\n",
      "tevas:  (4, Rimtas, Vaikis) \n",
      "vaikai: \n",
      "[(4, Gudrus, Vaikis, (4, Rimtas, Vaikis)),\n",
      " (5, Gudra, Vaike, (4, Rimtas, Vaikis))]\n",
      "tevas:  (5, Rimtas, Vaikis) \n",
      "vaikai: \n",
      "[(6, Gudrus, Vaikis, (5, Rimtas, Vaikis)),\n",
      " (7, Gudra, Vaike, (5, Rimtas, Vaikis))]\n",
      "tevas:  (6, Sergejus, Vyras) \n",
      "vaikai: \n",
      "[(8, Arina, Mergaite, (6, Sergejus, Vyras))]\n",
      "tevas:  (7, Rimtas, Vaikis) \n",
      "vaikai: \n",
      "[(9, Gudrus, Vaikis, (7, Rimtas, Vaikis)),\n",
      " (10, Gudra, Vaike, (7, Rimtas, Vaikis))]\n"
     ]
    }
   ],
   "source": [
    "tevai=session.query(Tevas).all()\n",
    "for tevas in tevai:\n",
    "    print('tevas: ', tevas, \"\\nvaikai: \")\n",
    "    pprint(tevas.vaikai)"
   ]
  },
  {
   "cell_type": "code",
   "execution_count": 9,
   "metadata": {},
   "outputs": [
    {
     "data": {
      "text/plain": [
       "'Gudrus'"
      ]
     },
     "execution_count": 9,
     "metadata": {},
     "output_type": "execute_result"
    }
   ],
   "source": [
    "tevas.vaikai[0].vardas"
   ]
  },
  {
   "cell_type": "code",
   "execution_count": 10,
   "metadata": {},
   "outputs": [
    {
     "data": {
      "text/plain": [
       "[(9, Gudri, Vaikis, (7, Rimtas, Vaikis)),\n",
       " (10, Gudra, Vaike, (7, Rimtas, Vaikis))]"
      ]
     },
     "execution_count": 10,
     "metadata": {},
     "output_type": "execute_result"
    }
   ],
   "source": [
    "#pakeisti\n",
    "tevas.vaikai[0].vardas = 'Gudri'\n",
    "tevas.vaikai"
   ]
  },
  {
   "cell_type": "code",
   "execution_count": 11,
   "metadata": {},
   "outputs": [
    {
     "data": {
      "text/plain": [
       "(10, Gudra, Vaike, None)"
      ]
     },
     "execution_count": 11,
     "metadata": {},
     "output_type": "execute_result"
    }
   ],
   "source": [
    "#istrinti\n",
    "trinamas=tevas.vaikai.pop()\n",
    "trinamas"
   ]
  },
  {
   "cell_type": "code",
   "execution_count": 12,
   "metadata": {},
   "outputs": [
    {
     "data": {
      "text/plain": [
       "[(1, Arina, Mergaite, (1, Sergejus, Vyras)),\n",
       " (2, Arina, Mergaite, (1, Sergejus, Vyras)),\n",
       " (3, Arina, Mergaite, (3, Sergejus, Vyras)),\n",
       " (4, Gudrus, Vaikis, (4, Rimtas, Vaikis)),\n",
       " (5, Gudra, Vaike, (4, Rimtas, Vaikis)),\n",
       " (6, Gudrus, Vaikis, (5, Rimtas, Vaikis)),\n",
       " (7, Gudra, Vaike, (5, Rimtas, Vaikis)),\n",
       " (8, Arina, Mergaite, (6, Sergejus, Vyras)),\n",
       " (9, Gudri, Vaikis, (7, Rimtas, Vaikis)),\n",
       " (10, Gudra, Vaike, None)]"
      ]
     },
     "execution_count": 12,
     "metadata": {},
     "output_type": "execute_result"
    }
   ],
   "source": [
    "vaikai=session.query(Vaikas).all()\n",
    "vaikai"
   ]
  },
  {
   "cell_type": "code",
   "execution_count": 13,
   "metadata": {},
   "outputs": [
    {
     "name": "stdout",
     "output_type": "stream",
     "text": [
      "(7, Rimtas, Vaikis)\n"
     ]
    }
   ],
   "source": [
    "print(tevas)"
   ]
  },
  {
   "cell_type": "code",
   "execution_count": 14,
   "metadata": {},
   "outputs": [
    {
     "name": "stdout",
     "output_type": "stream",
     "text": [
      "[(1, Arina, Mergaite, (1, Sergejus, Vyras)), (2, Arina, Mergaite, (1, Sergejus, Vyras)), (3, Arina, Mergaite, (3, Sergejus, Vyras)), (4, Gudrus, Vaikis, (4, Rimtas, Vaikis)), (5, Gudra, Vaike, (4, Rimtas, Vaikis)), (6, Gudrus, Vaikis, (5, Rimtas, Vaikis)), (7, Gudra, Vaike, (5, Rimtas, Vaikis)), (8, Arina, Mergaite, (6, Sergejus, Vyras)), (9, Gudri, Vaikis, (7, Rimtas, Vaikis)), (10, Gudra, Vaike, None)]\n"
     ]
    }
   ],
   "source": [
    "print(vaikai)"
   ]
  },
  {
   "cell_type": "code",
   "execution_count": 15,
   "metadata": {},
   "outputs": [],
   "source": [
    "tevas.vaikai.append(vaikai[1])\n",
    "tevas.vaikai.append(vaikai[2])"
   ]
  },
  {
   "cell_type": "code",
   "execution_count": 16,
   "metadata": {},
   "outputs": [
    {
     "name": "stdout",
     "output_type": "stream",
     "text": [
      "[(9, Gudri, Vaikis, (7, Rimtas, Vaikis)),\n",
      " (2, Arina, Mergaite, (7, Rimtas, Vaikis)),\n",
      " (3, Arina, Mergaite, (7, Rimtas, Vaikis))]\n"
     ]
    }
   ],
   "source": [
    "pprint(tevas.vaikai)"
   ]
  },
  {
   "cell_type": "code",
   "execution_count": 17,
   "metadata": {},
   "outputs": [],
   "source": [
    "# tevas.vaikai.remove(vaikai[1])\n",
    "# tevas"
   ]
  },
  {
   "cell_type": "code",
   "execution_count": 5,
   "metadata": {},
   "outputs": [],
   "source": [
    "from crud import update_object, delete_object\n"
   ]
  },
  {
   "cell_type": "code",
   "execution_count": 6,
   "metadata": {},
   "outputs": [
    {
     "data": {
      "text/plain": [
       "(2, Rimtesnis, Vyras)"
      ]
     },
     "execution_count": 6,
     "metadata": {},
     "output_type": "execute_result"
    }
   ],
   "source": [
    "update_object(Tevas, 2, vardas=\"Rimtesnis\")"
   ]
  },
  {
   "cell_type": "code",
   "execution_count": 10,
   "metadata": {},
   "outputs": [
    {
     "data": {
      "text/plain": [
       "(2, Rimtesnis, Vyras)"
      ]
     },
     "execution_count": 10,
     "metadata": {},
     "output_type": "execute_result"
    }
   ],
   "source": [
    "tevelis = session.query(Tevas).get(2)\n",
    "tevelis"
   ]
  },
  {
   "cell_type": "code",
   "execution_count": 12,
   "metadata": {},
   "outputs": [
    {
     "data": {
      "text/plain": [
       "[(2, Rimtesnis, Vyras),\n",
       " (4, Rimtas, Vaikis),\n",
       " (5, Rimtas, Vaikis),\n",
       " (7, Rimtas, Vaikis),\n",
       " (10, Rimtas, Vaikis)]"
      ]
     },
     "execution_count": 12,
     "metadata": {},
     "output_type": "execute_result"
    }
   ],
   "source": [
    "tevelis = session.query(Tevas).filter(Tevas.vardas.ilike(\"R%\")).all()\n",
    "tevelis"
   ]
  }
 ],
 "metadata": {
  "kernelspec": {
   "display_name": "Python 3.10.6 ('venv': venv)",
   "language": "python",
   "name": "python3"
  },
  "language_info": {
   "codemirror_mode": {
    "name": "ipython",
    "version": 3
   },
   "file_extension": ".py",
   "mimetype": "text/x-python",
   "name": "python",
   "nbconvert_exporter": "python",
   "pygments_lexer": "ipython3",
   "version": "3.10.6"
  },
  "orig_nbformat": 4,
  "vscode": {
   "interpreter": {
    "hash": "edefdc75ee99927f3838a646644599879a690fb6730d48df8388f72962031f09"
   }
  }
 },
 "nbformat": 4,
 "nbformat_minor": 2
}
