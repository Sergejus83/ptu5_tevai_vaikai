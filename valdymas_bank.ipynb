{
 "cells": [
  {
   "cell_type": "code",
   "execution_count": 1,
   "metadata": {},
   "outputs": [],
   "source": [
    "from sqlalchemy.orm import sessionmaker\n",
    "from models_bank import engine, Asmuo, Bankas, Saskaita\n",
    "\n",
    "session = sessionmaker(engine)()"
   ]
  },
  {
   "cell_type": "code",
   "execution_count": 2,
   "metadata": {},
   "outputs": [
    {
     "ename": "NameError",
     "evalue": "name 'Asmuo' is not defined",
     "output_type": "error",
     "traceback": [
      "\u001b[1;31m---------------------------------------------------------------------------\u001b[0m",
      "\u001b[1;31mNameError\u001b[0m                                 Traceback (most recent call last)",
      "Cell \u001b[1;32mIn [2], line 1\u001b[0m\n\u001b[1;32m----> 1\u001b[0m asmuo1 \u001b[39m=\u001b[39m Asmuo(vardas \u001b[39m=\u001b[39m \u001b[39m\"\u001b[39m\u001b[39mSergejus\u001b[39m\u001b[39m\"\u001b[39m, pavarde \u001b[39m=\u001b[39m \u001b[39m\"\u001b[39m\u001b[39mBykovas\u001b[39m\u001b[39m\"\u001b[39m, asm_kodas \u001b[39m=\u001b[39m \u001b[39m38301050000\u001b[39m, tel_numeris \u001b[39m=\u001b[39m \u001b[39m861234567\u001b[39m)\n\u001b[0;32m      2\u001b[0m bankas_seb \u001b[39m=\u001b[39m Bankas(pavadinimas \u001b[39m=\u001b[39m \u001b[39m\"\u001b[39m\u001b[39mSEB\u001b[39m\u001b[39m\"\u001b[39m, adresas \u001b[39m=\u001b[39m \u001b[39m\"\u001b[39m\u001b[39mOzo g.25, Vilnius\u001b[39m\u001b[39m\"\u001b[39m, banko_kodas \u001b[39m=\u001b[39m \u001b[39m\"\u001b[39m\u001b[39m70440\u001b[39m\u001b[39m\"\u001b[39m, swift_kodas \u001b[39m=\u001b[39m \u001b[39m\"\u001b[39m\u001b[39mCBVILT2X\u001b[39m\u001b[39m\"\u001b[39m)\n\u001b[0;32m      3\u001b[0m saskaita1 \u001b[39m=\u001b[39m Saskaita(sask_numeris \u001b[39m=\u001b[39m \u001b[39m\"\u001b[39m\u001b[39mLT767044010101010202\u001b[39m\u001b[39m\"\u001b[39m)\n",
      "\u001b[1;31mNameError\u001b[0m: name 'Asmuo' is not defined"
     ]
    }
   ],
   "source": [
    "asmuo1 = Asmuo(vardas = \"Sergejus\", pavarde = \"Bykovas\", asm_kodas = 38301050000, tel_numeris = 861234567)\n",
    "bankas_seb = Bankas(pavadinimas = \"SEB\", adresas = \"Ozo g.25, Vilnius\", banko_kodas = \"70440\", swift_kodas = \"CBVILT2X\")\n",
    "saskaita1 = Saskaita(sask_numeris = \"LT767044010101010202\")\n",
    "\n",
    "# saskaita1.asmuo.append(asmuo1)\n",
    "# saskaita1.bankas.append(bankas_seb)\n",
    "\n",
    "session.add(asmuo1)\n",
    "# session.add(bankas_seb)\n",
    "# session.add(saskaita1)\n",
    "session.commit()\n",
    "\n",
    "\n"
   ]
  },
  {
   "cell_type": "code",
   "execution_count": 3,
   "metadata": {},
   "outputs": [
    {
     "ename": "InvalidRequestError",
     "evalue": "One or more mappers failed to initialize - can't proceed with initialization of other mappers. Triggering mapper: 'mapped class Saskaita->saskaita'. Original exception was: Mapper 'mapped class Bankas->bankas' has no property 'asmuo'",
     "output_type": "error",
     "traceback": [
      "\u001b[1;31m---------------------------------------------------------------------------\u001b[0m",
      "\u001b[1;31mInvalidRequestError\u001b[0m                       Traceback (most recent call last)",
      "Cell \u001b[1;32mIn [3], line 1\u001b[0m\n\u001b[1;32m----> 1\u001b[0m asmenys \u001b[39m=\u001b[39m session\u001b[39m.\u001b[39;49mquery(Asmuo)\u001b[39m.\u001b[39mall()\n\u001b[0;32m      2\u001b[0m \u001b[39mprint\u001b[39m(\u001b[39m\"\u001b[39m\u001b[39masmenys: \u001b[39m\u001b[39m\"\u001b[39m, asmenys)\n\u001b[0;32m      3\u001b[0m bankai \u001b[39m=\u001b[39m session\u001b[39m.\u001b[39mquery(Bankas)\u001b[39m.\u001b[39mall()\n",
      "File \u001b[1;32mc:\\pythoncodeacademy\\ptu5_tevai_vaikai\\venv\\lib\\site-packages\\sqlalchemy\\orm\\session.py:2161\u001b[0m, in \u001b[0;36mSession.query\u001b[1;34m(self, *entities, **kwargs)\u001b[0m\n\u001b[0;32m   2155\u001b[0m \u001b[39mdef\u001b[39;00m \u001b[39mquery\u001b[39m(\u001b[39mself\u001b[39m, \u001b[39m*\u001b[39mentities, \u001b[39m*\u001b[39m\u001b[39m*\u001b[39mkwargs):\n\u001b[0;32m   2156\u001b[0m     \u001b[39m\"\"\"Return a new :class:`_query.Query` object corresponding to this\u001b[39;00m\n\u001b[0;32m   2157\u001b[0m \u001b[39m    :class:`_orm.Session`.\u001b[39;00m\n\u001b[0;32m   2158\u001b[0m \n\u001b[0;32m   2159\u001b[0m \u001b[39m    \"\"\"\u001b[39;00m\n\u001b[1;32m-> 2161\u001b[0m     \u001b[39mreturn\u001b[39;00m \u001b[39mself\u001b[39m\u001b[39m.\u001b[39m_query_cls(entities, \u001b[39mself\u001b[39m, \u001b[39m*\u001b[39m\u001b[39m*\u001b[39mkwargs)\n",
      "File \u001b[1;32mc:\\pythoncodeacademy\\ptu5_tevai_vaikai\\venv\\lib\\site-packages\\sqlalchemy\\orm\\query.py:180\u001b[0m, in \u001b[0;36mQuery.__init__\u001b[1;34m(self, entities, session)\u001b[0m\n\u001b[0;32m    152\u001b[0m \u001b[39m\"\"\"Construct a :class:`_query.Query` directly.\u001b[39;00m\n\u001b[0;32m    153\u001b[0m \n\u001b[0;32m    154\u001b[0m \u001b[39mE.g.::\u001b[39;00m\n\u001b[1;32m   (...)\u001b[0m\n\u001b[0;32m    176\u001b[0m \n\u001b[0;32m    177\u001b[0m \u001b[39m\"\"\"\u001b[39;00m\n\u001b[0;32m    179\u001b[0m \u001b[39mself\u001b[39m\u001b[39m.\u001b[39msession \u001b[39m=\u001b[39m session\n\u001b[1;32m--> 180\u001b[0m \u001b[39mself\u001b[39;49m\u001b[39m.\u001b[39;49m_set_entities(entities)\n",
      "File \u001b[1;32mc:\\pythoncodeacademy\\ptu5_tevai_vaikai\\venv\\lib\\site-packages\\sqlalchemy\\orm\\query.py:187\u001b[0m, in \u001b[0;36mQuery._set_entities\u001b[1;34m(self, entities)\u001b[0m\n\u001b[0;32m    186\u001b[0m \u001b[39mdef\u001b[39;00m \u001b[39m_set_entities\u001b[39m(\u001b[39mself\u001b[39m, entities):\n\u001b[1;32m--> 187\u001b[0m     \u001b[39mself\u001b[39m\u001b[39m.\u001b[39m_raw_columns \u001b[39m=\u001b[39m [\n\u001b[0;32m    188\u001b[0m         coercions\u001b[39m.\u001b[39mexpect(\n\u001b[0;32m    189\u001b[0m             roles\u001b[39m.\u001b[39mColumnsClauseRole,\n\u001b[0;32m    190\u001b[0m             ent,\n\u001b[0;32m    191\u001b[0m             apply_propagate_attrs\u001b[39m=\u001b[39m\u001b[39mself\u001b[39m,\n\u001b[0;32m    192\u001b[0m             post_inspect\u001b[39m=\u001b[39m\u001b[39mTrue\u001b[39;00m,\n\u001b[0;32m    193\u001b[0m         )\n\u001b[0;32m    194\u001b[0m         \u001b[39mfor\u001b[39;00m ent \u001b[39min\u001b[39;00m util\u001b[39m.\u001b[39mto_list(entities)\n\u001b[0;32m    195\u001b[0m     ]\n",
      "File \u001b[1;32mc:\\pythoncodeacademy\\ptu5_tevai_vaikai\\venv\\lib\\site-packages\\sqlalchemy\\orm\\query.py:188\u001b[0m, in \u001b[0;36m<listcomp>\u001b[1;34m(.0)\u001b[0m\n\u001b[0;32m    186\u001b[0m \u001b[39mdef\u001b[39;00m \u001b[39m_set_entities\u001b[39m(\u001b[39mself\u001b[39m, entities):\n\u001b[0;32m    187\u001b[0m     \u001b[39mself\u001b[39m\u001b[39m.\u001b[39m_raw_columns \u001b[39m=\u001b[39m [\n\u001b[1;32m--> 188\u001b[0m         coercions\u001b[39m.\u001b[39;49mexpect(\n\u001b[0;32m    189\u001b[0m             roles\u001b[39m.\u001b[39;49mColumnsClauseRole,\n\u001b[0;32m    190\u001b[0m             ent,\n\u001b[0;32m    191\u001b[0m             apply_propagate_attrs\u001b[39m=\u001b[39;49m\u001b[39mself\u001b[39;49m,\n\u001b[0;32m    192\u001b[0m             post_inspect\u001b[39m=\u001b[39;49m\u001b[39mTrue\u001b[39;49;00m,\n\u001b[0;32m    193\u001b[0m         )\n\u001b[0;32m    194\u001b[0m         \u001b[39mfor\u001b[39;00m ent \u001b[39min\u001b[39;00m util\u001b[39m.\u001b[39mto_list(entities)\n\u001b[0;32m    195\u001b[0m     ]\n",
      "File \u001b[1;32mc:\\pythoncodeacademy\\ptu5_tevai_vaikai\\venv\\lib\\site-packages\\sqlalchemy\\sql\\coercions.py:181\u001b[0m, in \u001b[0;36mexpect\u001b[1;34m(role, element, apply_propagate_attrs, argname, post_inspect, **kw)\u001b[0m\n\u001b[0;32m    179\u001b[0m \u001b[39mif\u001b[39;00m insp \u001b[39mis\u001b[39;00m \u001b[39mnot\u001b[39;00m \u001b[39mNone\u001b[39;00m:\n\u001b[0;32m    180\u001b[0m     \u001b[39mif\u001b[39;00m post_inspect:\n\u001b[1;32m--> 181\u001b[0m         insp\u001b[39m.\u001b[39;49m_post_inspect\n\u001b[0;32m    182\u001b[0m     \u001b[39mtry\u001b[39;00m:\n\u001b[0;32m    183\u001b[0m         resolved \u001b[39m=\u001b[39m insp\u001b[39m.\u001b[39m__clause_element__()\n",
      "File \u001b[1;32mc:\\pythoncodeacademy\\ptu5_tevai_vaikai\\venv\\lib\\site-packages\\sqlalchemy\\util\\langhelpers.py:1184\u001b[0m, in \u001b[0;36mHasMemoized.memoized_attribute.__get__\u001b[1;34m(self, obj, cls)\u001b[0m\n\u001b[0;32m   1182\u001b[0m \u001b[39mif\u001b[39;00m obj \u001b[39mis\u001b[39;00m \u001b[39mNone\u001b[39;00m:\n\u001b[0;32m   1183\u001b[0m     \u001b[39mreturn\u001b[39;00m \u001b[39mself\u001b[39m\n\u001b[1;32m-> 1184\u001b[0m obj\u001b[39m.\u001b[39m\u001b[39m__dict__\u001b[39m[\u001b[39mself\u001b[39m\u001b[39m.\u001b[39m\u001b[39m__name__\u001b[39m] \u001b[39m=\u001b[39m result \u001b[39m=\u001b[39m \u001b[39mself\u001b[39;49m\u001b[39m.\u001b[39;49mfget(obj)\n\u001b[0;32m   1185\u001b[0m obj\u001b[39m.\u001b[39m_memoized_keys \u001b[39m|\u001b[39m\u001b[39m=\u001b[39m {\u001b[39mself\u001b[39m\u001b[39m.\u001b[39m\u001b[39m__name__\u001b[39m}\n\u001b[0;32m   1186\u001b[0m \u001b[39mreturn\u001b[39;00m result\n",
      "File \u001b[1;32mc:\\pythoncodeacademy\\ptu5_tevai_vaikai\\venv\\lib\\site-packages\\sqlalchemy\\orm\\mapper.py:2199\u001b[0m, in \u001b[0;36mMapper._post_inspect\u001b[1;34m(self)\u001b[0m\n\u001b[0;32m   2188\u001b[0m \u001b[39m@HasMemoized\u001b[39m\u001b[39m.\u001b[39mmemoized_attribute\n\u001b[0;32m   2189\u001b[0m \u001b[39mdef\u001b[39;00m \u001b[39m_post_inspect\u001b[39m(\u001b[39mself\u001b[39m):\n\u001b[0;32m   2190\u001b[0m     \u001b[39m\"\"\"This hook is invoked by attribute inspection.\u001b[39;00m\n\u001b[0;32m   2191\u001b[0m \n\u001b[0;32m   2192\u001b[0m \u001b[39m    E.g. when Query calls:\u001b[39;00m\n\u001b[1;32m   (...)\u001b[0m\n\u001b[0;32m   2197\u001b[0m \n\u001b[0;32m   2198\u001b[0m \u001b[39m    \"\"\"\u001b[39;00m\n\u001b[1;32m-> 2199\u001b[0m     \u001b[39mself\u001b[39;49m\u001b[39m.\u001b[39;49m_check_configure()\n",
      "File \u001b[1;32mc:\\pythoncodeacademy\\ptu5_tevai_vaikai\\venv\\lib\\site-packages\\sqlalchemy\\orm\\mapper.py:1941\u001b[0m, in \u001b[0;36mMapper._check_configure\u001b[1;34m(self)\u001b[0m\n\u001b[0;32m   1939\u001b[0m \u001b[39mdef\u001b[39;00m \u001b[39m_check_configure\u001b[39m(\u001b[39mself\u001b[39m):\n\u001b[0;32m   1940\u001b[0m     \u001b[39mif\u001b[39;00m \u001b[39mself\u001b[39m\u001b[39m.\u001b[39mregistry\u001b[39m.\u001b[39m_new_mappers:\n\u001b[1;32m-> 1941\u001b[0m         _configure_registries({\u001b[39mself\u001b[39;49m\u001b[39m.\u001b[39;49mregistry}, cascade\u001b[39m=\u001b[39;49m\u001b[39mTrue\u001b[39;49;00m)\n",
      "File \u001b[1;32mc:\\pythoncodeacademy\\ptu5_tevai_vaikai\\venv\\lib\\site-packages\\sqlalchemy\\orm\\mapper.py:3500\u001b[0m, in \u001b[0;36m_configure_registries\u001b[1;34m(registries, cascade)\u001b[0m\n\u001b[0;32m   3494\u001b[0m     Mapper\u001b[39m.\u001b[39mdispatch\u001b[39m.\u001b[39m_for_class(Mapper)\u001b[39m.\u001b[39mbefore_configured()\n\u001b[0;32m   3495\u001b[0m     \u001b[39m# initialize properties on all mappers\u001b[39;00m\n\u001b[0;32m   3496\u001b[0m     \u001b[39m# note that _mapper_registry is unordered, which\u001b[39;00m\n\u001b[0;32m   3497\u001b[0m     \u001b[39m# may randomly conceal/reveal issues related to\u001b[39;00m\n\u001b[0;32m   3498\u001b[0m     \u001b[39m# the order of mapper compilation\u001b[39;00m\n\u001b[1;32m-> 3500\u001b[0m     _do_configure_registries(registries, cascade)\n\u001b[0;32m   3501\u001b[0m \u001b[39mfinally\u001b[39;00m:\n\u001b[0;32m   3502\u001b[0m     _already_compiling \u001b[39m=\u001b[39m \u001b[39mFalse\u001b[39;00m\n",
      "File \u001b[1;32mc:\\pythoncodeacademy\\ptu5_tevai_vaikai\\venv\\lib\\site-packages\\sqlalchemy\\orm\\mapper.py:3535\u001b[0m, in \u001b[0;36m_do_configure_registries\u001b[1;34m(registries, cascade)\u001b[0m\n\u001b[0;32m   3527\u001b[0m     e \u001b[39m=\u001b[39m sa_exc\u001b[39m.\u001b[39mInvalidRequestError(\n\u001b[0;32m   3528\u001b[0m         \u001b[39m\"\u001b[39m\u001b[39mOne or more mappers failed to initialize - \u001b[39m\u001b[39m\"\u001b[39m\n\u001b[0;32m   3529\u001b[0m         \u001b[39m\"\u001b[39m\u001b[39mcan\u001b[39m\u001b[39m'\u001b[39m\u001b[39mt proceed with initialization of other \u001b[39m\u001b[39m\"\u001b[39m\n\u001b[1;32m   (...)\u001b[0m\n\u001b[0;32m   3532\u001b[0m         \u001b[39m%\u001b[39m (mapper, mapper\u001b[39m.\u001b[39m_configure_failed)\n\u001b[0;32m   3533\u001b[0m     )\n\u001b[0;32m   3534\u001b[0m     e\u001b[39m.\u001b[39m_configure_failed \u001b[39m=\u001b[39m mapper\u001b[39m.\u001b[39m_configure_failed\n\u001b[1;32m-> 3535\u001b[0m     \u001b[39mraise\u001b[39;00m e\n\u001b[0;32m   3537\u001b[0m \u001b[39mif\u001b[39;00m \u001b[39mnot\u001b[39;00m mapper\u001b[39m.\u001b[39mconfigured:\n\u001b[0;32m   3538\u001b[0m     \u001b[39mtry\u001b[39;00m:\n",
      "\u001b[1;31mInvalidRequestError\u001b[0m: One or more mappers failed to initialize - can't proceed with initialization of other mappers. Triggering mapper: 'mapped class Saskaita->saskaita'. Original exception was: Mapper 'mapped class Bankas->bankas' has no property 'asmuo'"
     ]
    }
   ],
   "source": [
    "asmenys = session.query(Asmuo).all()\n",
    "print(\"asmenys: \", asmenys)\n",
    "bankai = session.query(Bankas).all()\n",
    "print(\"bankai: \", bankai)\n",
    "saskaitos = session.query(Saskaita).all()\n",
    "print(\"sakaitos: \", saskaitos)"
   ]
  },
  {
   "cell_type": "code",
   "execution_count": null,
   "metadata": {},
   "outputs": [],
   "source": [
    "asmuo2 = Asmuo(vardas = \"Jonas\", pavarde = \"Jonaitis\", asm_kodas = 39012212112, tel_numeris = 869898321)\n",
    "asmuo3 = Asmuo(vardas = \"Petras\", pavarde = \"Petraitis\", asm_kodas = 39110280030, tel_numeris = 862323332)\n",
    "\n",
    "\n",
    "session.add(asmuo2)\n",
    "session.add(asmuo3)"
   ]
  }
 ],
 "metadata": {
  "kernelspec": {
   "display_name": "Python 3.10.6 ('venv': venv)",
   "language": "python",
   "name": "python3"
  },
  "language_info": {
   "codemirror_mode": {
    "name": "ipython",
    "version": 3
   },
   "file_extension": ".py",
   "mimetype": "text/x-python",
   "name": "python",
   "nbconvert_exporter": "python",
   "pygments_lexer": "ipython3",
   "version": "3.10.6"
  },
  "orig_nbformat": 4,
  "vscode": {
   "interpreter": {
    "hash": "edefdc75ee99927f3838a646644599879a690fb6730d48df8388f72962031f09"
   }
  }
 },
 "nbformat": 4,
 "nbformat_minor": 2
}
