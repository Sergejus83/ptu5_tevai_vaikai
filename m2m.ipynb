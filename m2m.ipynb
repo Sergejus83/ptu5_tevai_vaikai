{
 "cells": [
  {
   "cell_type": "code",
   "execution_count": 1,
   "metadata": {},
   "outputs": [],
   "source": [
    "from sqlalchemy.orm import sessionmaker\n",
    "from modelis_m2m import engine, Tevas, Vaikas\n",
    "from pprint import pprint\n",
    "\n",
    "session = sessionmaker(engine)()\n"
   ]
  },
  {
   "cell_type": "code",
   "execution_count": 2,
   "metadata": {},
   "outputs": [],
   "source": [
    "tevas  =Tevas(vardas = \"Sergejus\", pavarde = \"Bykovas\")\n",
    "mama = Tevas(vardas = \"Julija\", pavarde = \"Bykova\")\n",
    "dukra = Vaikas (vardas = \"Arina\", pavarde = \"Bykova\")\n",
    "sunus = Vaikas(vardas = \"Daniil\", pavarde = \"Bykov\")\n",
    "katinas = Vaikas(vardas = \"Boss\", pavarde = \"Devon_Rex\")\n",
    "\n",
    "tevas.vaikai.append(dukra)\n",
    "mama.vaikai.append(dukra)\n",
    "tevas.vaikai.append(sunus)\n",
    "\n",
    "session.add(tevas)\n",
    "session.add(mama)\n",
    "session.commit()"
   ]
  },
  {
   "cell_type": "code",
   "execution_count": 3,
   "metadata": {},
   "outputs": [],
   "source": [
    "session.add(katinas)\n",
    "session.commit()"
   ]
  },
  {
   "cell_type": "code",
   "execution_count": 4,
   "metadata": {},
   "outputs": [
    {
     "name": "stdout",
     "output_type": "stream",
     "text": [
      "[(1, Sergejus, Bykovas),\n",
      " (2, Julija, Bykova),\n",
      " (3, Sergejus, Bykovas),\n",
      " (4, Julija, Bykova)]\n",
      "[(1, Arina, Bykova),\n",
      " (2, Daniil, Bykov),\n",
      " (3, Boss, Devon_Rex),\n",
      " (4, Arina, Bykova),\n",
      " (5, Daniil, Bykov),\n",
      " (6, Boss, Devon_Rex)]\n"
     ]
    }
   ],
   "source": [
    "tevai = session.query(Tevas).all()\n",
    "pprint(tevai)\n",
    "vaikai = session.query(Vaikas).all()\n",
    "pprint(vaikai)"
   ]
  },
  {
   "cell_type": "code",
   "execution_count": 9,
   "metadata": {},
   "outputs": [
    {
     "name": "stdout",
     "output_type": "stream",
     "text": [
      "(1, Sergejus, Bykovas)\n",
      "+ (1, Arina, Bykova)\n",
      "+ (2, Daniil, Bykov)\n",
      "(2, Julija, Bykova)\n",
      "+ (1, Arina, Bykova)\n"
     ]
    }
   ],
   "source": [
    "for tevas in tevai:\n",
    "    print(tevas)\n",
    "    for vaikas in tevas.vaikai:\n",
    "        print(\"+\", vaikas)"
   ]
  },
  {
   "cell_type": "code",
   "execution_count": 10,
   "metadata": {},
   "outputs": [
    {
     "name": "stdout",
     "output_type": "stream",
     "text": [
      "(1, Arina, Bykova)\n",
      "- (1, Sergejus, Bykovas)\n",
      "- (2, Julija, Bykova)\n",
      "(2, Daniil, Bykov)\n",
      "- (1, Sergejus, Bykovas)\n",
      "(3, Boss, Devon_Rex)\n"
     ]
    }
   ],
   "source": [
    "for vaikas in vaikai:\n",
    "    print(vaikas)\n",
    "    for tevas in vaikas.tevai:\n",
    "        print(\"-\", tevas)"
   ]
  },
  {
   "cell_type": "code",
   "execution_count": 19,
   "metadata": {},
   "outputs": [
    {
     "name": "stdout",
     "output_type": "stream",
     "text": [
      "[(1, Sergejus, Bykovas), (2, Julija, Bykova)]\n",
      "[(1, Arina, Bykova), (2, Daniil, Bykov), (3, Boss, Devon_Rex)]\n"
     ]
    }
   ],
   "source": [
    "tevai = session.query(Tevas).all()\n",
    "pprint(tevai)\n",
    "vaikai = session.query(Vaikas).all()\n",
    "pprint(vaikai)\n",
    "# sarasas su id indeksaias"
   ]
  },
  {
   "cell_type": "code",
   "execution_count": 4,
   "metadata": {},
   "outputs": [],
   "source": [
    "tevas=session.query(Tevas).get(1)\n",
    "mama = session.query(Tevas).get(2)\n",
    "dukra = session.query(Vaikas).get(1)\n",
    "sunus = session.query(Vaikas).get(2)\n",
    "katinas = session.query(Vaikas).get(3)\n",
    "# priskiriame indeksa is saraso"
   ]
  },
  {
   "cell_type": "code",
   "execution_count": 10,
   "metadata": {},
   "outputs": [],
   "source": [
    "sunus.tevai.append(tevas)\n",
    "sunus.tevai.append(mama)\n",
    "katinas.tevai.append(tevas)\n",
    "katinas.tevai.append(mama)\n",
    "session.commit()"
   ]
  },
  {
   "cell_type": "code",
   "execution_count": 11,
   "metadata": {},
   "outputs": [
    {
     "name": "stdout",
     "output_type": "stream",
     "text": [
      "[(1, Sergejus, Bykovas), (2, Julija, Bykova)]\n",
      "[(1, Arina, Bykova), (2, Daniil, Bykov), (3, Boss, Devon_Rex)]\n"
     ]
    }
   ],
   "source": [
    "tevai = session.query(Tevas).all()\n",
    "pprint(tevai)\n",
    "vaikai = session.query(Vaikas).all()\n",
    "pprint(vaikai)"
   ]
  },
  {
   "cell_type": "code",
   "execution_count": 16,
   "metadata": {},
   "outputs": [
    {
     "name": "stdout",
     "output_type": "stream",
     "text": [
      "(1, Sergejus, Bykovas) tevas turi vaikus: \n",
      "+ (1, Arina, Bykova)\n",
      "+ (2, Daniil, Bykov)\n",
      "+ (3, Boss, Devon_Rex)\n",
      "(2, Julija, Bykova) tevas turi vaikus: \n",
      "+ (1, Arina, Bykova)\n",
      "+ (3, Boss, Devon_Rex)\n",
      "+ (2, Daniil, Bykov)\n"
     ]
    }
   ],
   "source": [
    "for tevas in tevai:\n",
    "    print(tevas, \"tevas turi vaikus: \")\n",
    "    for vaikas in tevas.vaikai:\n",
    "        print(\"+\", vaikas)"
   ]
  },
  {
   "cell_type": "code",
   "execution_count": 15,
   "metadata": {},
   "outputs": [
    {
     "name": "stdout",
     "output_type": "stream",
     "text": [
      "(1, Arina, Bykova) vaikas turi tevus: \n",
      "- (1, Sergejus, Bykovas)\n",
      "- (2, Julija, Bykova)\n",
      "(2, Daniil, Bykov) vaikas turi tevus: \n",
      "- (1, Sergejus, Bykovas)\n",
      "- (2, Julija, Bykova)\n",
      "(3, Boss, Devon_Rex) vaikas turi tevus: \n",
      "- (1, Sergejus, Bykovas)\n",
      "- (2, Julija, Bykova)\n"
     ]
    }
   ],
   "source": [
    "for vaikas in vaikai:\n",
    "    print(vaikas, \"vaikas turi tevus: \")\n",
    "    for tevas in vaikas.tevai:\n",
    "        print(\"-\", tevas)"
   ]
  },
  {
   "cell_type": "code",
   "execution_count": 17,
   "metadata": {},
   "outputs": [],
   "source": [
    "mama.vaikai.remove(katinas)"
   ]
  },
  {
   "cell_type": "code",
   "execution_count": 18,
   "metadata": {},
   "outputs": [
    {
     "name": "stdout",
     "output_type": "stream",
     "text": [
      "(1, Arina, Bykova) vaikas turi tevus: \n",
      "- (1, Sergejus, Bykovas)\n",
      "- (2, Julija, Bykova)\n",
      "(2, Daniil, Bykov) vaikas turi tevus: \n",
      "- (1, Sergejus, Bykovas)\n",
      "- (2, Julija, Bykova)\n",
      "(3, Boss, Devon_Rex) vaikas turi tevus: \n",
      "- (1, Sergejus, Bykovas)\n"
     ]
    }
   ],
   "source": [
    "for vaikas in vaikai:\n",
    "    print(vaikas, \"vaikas turi tevus: \")\n",
    "    for tevas in vaikas.tevai:\n",
    "        print(\"-\", tevas)"
   ]
  },
  {
   "cell_type": "code",
   "execution_count": null,
   "metadata": {},
   "outputs": [],
   "source": [
    "session.commit()"
   ]
  }
 ],
 "metadata": {
  "kernelspec": {
   "display_name": "Python 3.10.6 ('venv': venv)",
   "language": "python",
   "name": "python3"
  },
  "language_info": {
   "codemirror_mode": {
    "name": "ipython",
    "version": 3
   },
   "file_extension": ".py",
   "mimetype": "text/x-python",
   "name": "python",
   "nbconvert_exporter": "python",
   "pygments_lexer": "ipython3",
   "version": "3.10.6"
  },
  "orig_nbformat": 4,
  "vscode": {
   "interpreter": {
    "hash": "edefdc75ee99927f3838a646644599879a690fb6730d48df8388f72962031f09"
   }
  }
 },
 "nbformat": 4,
 "nbformat_minor": 2
}
