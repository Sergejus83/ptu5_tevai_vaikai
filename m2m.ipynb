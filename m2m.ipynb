{
 "cells": [
  {
   "cell_type": "code",
   "execution_count": 1,
   "metadata": {},
   "outputs": [],
   "source": [
    "from sqlalchemy.orm import sessionmaker\n",
    "from modelis_m2m import engine, Tevas, Vaikas\n",
    "from pprint import pprint\n",
    "\n",
    "session = sessionmaker(engine)()\n"
   ]
  },
  {
   "cell_type": "code",
   "execution_count": 2,
   "metadata": {},
   "outputs": [],
   "source": [
    "tevas  =Tevas(vardas = \"Sergejus\", pavarde = \"Bykovas\")\n",
    "mama = Tevas(vardas = \"Julija\", pavarde = \"Bykova\")\n",
    "dukra = Vaikas (vardas = \"Arina\", pavarde = \"Bykova\")\n",
    "sunus = Vaikas(vardas = \"Daniil\", pavarde = \"Bykov\")\n",
    "katinas = Vaikas(vardas = \"Boss\", pavarde = \"Devon_Rex\")\n",
    "\n",
    "tevas.vaikai.append(dukra)\n",
    "mama.vaikai.append(dukra)\n",
    "tevas.vaikai.append(sunus)\n",
    "\n",
    "session.add(tevas)\n",
    "session.add(mama)\n",
    "session.commit()"
   ]
  },
  {
   "cell_type": "code",
   "execution_count": 5,
   "metadata": {},
   "outputs": [],
   "source": [
    "session.add(katinas)\n",
    "session.commit()"
   ]
  },
  {
   "cell_type": "code",
   "execution_count": 6,
   "metadata": {},
   "outputs": [
    {
     "name": "stdout",
     "output_type": "stream",
     "text": [
      "[(1, Sergejus, Bykovas), (2, Julija, Bykova)]\n",
      "[(1, Arina, Bykova), (2, Daniil, Bykov), (3, Boss, Devon_Rex)]\n"
     ]
    }
   ],
   "source": [
    "tevai = session.query(Tevas).all()\n",
    "pprint(tevai)\n",
    "vaikai = session.query(Vaikas).all()\n",
    "pprint(vaikai)"
   ]
  },
  {
   "cell_type": "code",
   "execution_count": 9,
   "metadata": {},
   "outputs": [
    {
     "name": "stdout",
     "output_type": "stream",
     "text": [
      "(1, Sergejus, Bykovas)\n",
      "+ (1, Arina, Bykova)\n",
      "+ (2, Daniil, Bykov)\n",
      "(2, Julija, Bykova)\n",
      "+ (1, Arina, Bykova)\n"
     ]
    }
   ],
   "source": [
    "for tevas in tevai:\n",
    "    print(tevas)\n",
    "    for vaikas in tevas.vaikai:\n",
    "        print(\"+\", vaikas)"
   ]
  },
  {
   "cell_type": "code",
   "execution_count": 10,
   "metadata": {},
   "outputs": [
    {
     "name": "stdout",
     "output_type": "stream",
     "text": [
      "(1, Arina, Bykova)\n",
      "- (1, Sergejus, Bykovas)\n",
      "- (2, Julija, Bykova)\n",
      "(2, Daniil, Bykov)\n",
      "- (1, Sergejus, Bykovas)\n",
      "(3, Boss, Devon_Rex)\n"
     ]
    }
   ],
   "source": [
    "for vaikas in vaikai:\n",
    "    print(vaikas)\n",
    "    for tevas in vaikas.tevai:\n",
    "        print(\"-\", tevas)"
   ]
  }
 ],
 "metadata": {
  "kernelspec": {
   "display_name": "Python 3.10.6 ('venv': venv)",
   "language": "python",
   "name": "python3"
  },
  "language_info": {
   "codemirror_mode": {
    "name": "ipython",
    "version": 3
   },
   "file_extension": ".py",
   "mimetype": "text/x-python",
   "name": "python",
   "nbconvert_exporter": "python",
   "pygments_lexer": "ipython3",
   "version": "3.10.6"
  },
  "orig_nbformat": 4,
  "vscode": {
   "interpreter": {
    "hash": "edefdc75ee99927f3838a646644599879a690fb6730d48df8388f72962031f09"
   }
  }
 },
 "nbformat": 4,
 "nbformat_minor": 2
}
